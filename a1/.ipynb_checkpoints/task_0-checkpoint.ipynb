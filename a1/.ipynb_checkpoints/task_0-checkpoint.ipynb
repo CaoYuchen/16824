{
 "cells": [
  {
   "cell_type": "markdown",
   "id": "overhead-clinic",
   "metadata": {},
   "source": [
    "# Part 0: Dataloader and Visualizations"
   ]
  },
  {
   "cell_type": "code",
   "execution_count": 1,
   "id": "moved-crisis",
   "metadata": {},
   "outputs": [],
   "source": [
    "import numpy as np\n",
    "from PIL import Image\n",
    "import scipy.io\n",
    "import torch\n",
    "\n",
    "import torch.nn as nn\n",
    "import torch.nn.functional as F\n",
    "\n",
    "import torchvision.models as models\n",
    "from torchvision import transforms, datasets\n",
    "\n",
    "from torch.utils.data import DataLoader\n",
    "import wandb\n",
    "\n",
    "from voc_dataset import VOCDataset\n",
    "from utils import *\n",
    "\n",
    "USE_WANDB = False"
   ]
  },
  {
   "cell_type": "markdown",
   "id": "angry-prague",
   "metadata": {},
   "source": [
    "## Q0.1: Editing the Dataloader\n",
    "The first part of the assignment involves editing the dataloader so that we can access bounding-box proposals as well as the ground-truth bounding boxes. The ground truth bounding box can be accessed through the VOC Dataset annotations itself and we have completed this part for you in the starter code. \n",
    "\n",
    "Unsupervised bounding box proposals are obtained through methods such as [Selective Search](https://ivi.fnwi.uva.nl/isis/publications/2013/UijlingsIJCV2013/UijlingsIJCV2013.pdf). Since Selective Search is slow to run on each image, we have pre-computed the bounding box proposals for you (you downloaded this in the data preparation step).\n",
    "\n",
    "Your task is to change the dataloader to obtain the proposed bounding boxes for each image. Feel free to experiment with the data in the files to figure out the number of proposals per image, their scores, etc. Returning a dictionary would be convenient here. For the bounding boxes, using the relative positions is usually a better idea since they are invariant to changes in the size of the image."
   ]
  },
  {
   "cell_type": "code",
   "execution_count": 2,
   "id": "thousand-messaging",
   "metadata": {},
   "outputs": [],
   "source": [
    "dataset = VOCDataset('trainval', top_n=10)"
   ]
  },
  {
   "cell_type": "markdown",
   "id": "c2223be0",
   "metadata": {},
   "source": [
    "**Q0.1**: Load the image corresponding to index 2020 and print the GT labels associated with it.\n",
    "\n",
    "**Hint**: items at a particular index can be accesed by usual indexing notation (dataset[idx])"
   ]
  },
  {
   "cell_type": "code",
   "execution_count": 20,
   "id": "confused-witness",
   "metadata": {},
   "outputs": [
    {
     "ename": "TypeError",
     "evalue": "'VOCDataset' object is not callable",
     "output_type": "error",
     "traceback": [
      "\u001b[1;31m---------------------------------------------------------------------------\u001b[0m",
      "\u001b[1;31mTypeError\u001b[0m                                 Traceback (most recent call last)",
      "\u001b[1;32m~\\AppData\\Local\\Temp\\ipykernel_2900\\1548165886.py\u001b[0m in \u001b[0;36m<module>\u001b[1;34m\u001b[0m\n\u001b[0;32m      1\u001b[0m \u001b[1;31m# TODO: get the image information from index 2020\u001b[0m\u001b[1;33m\u001b[0m\u001b[1;33m\u001b[0m\u001b[1;33m\u001b[0m\u001b[0m\n\u001b[0;32m      2\u001b[0m \u001b[0midx\u001b[0m \u001b[1;33m=\u001b[0m \u001b[1;36m2020\u001b[0m\u001b[1;33m\u001b[0m\u001b[1;33m\u001b[0m\u001b[0m\n\u001b[1;32m----> 3\u001b[1;33m \u001b[0mlabels\u001b[0m \u001b[1;33m=\u001b[0m \u001b[0mdataset\u001b[0m\u001b[1;33m(\u001b[0m\u001b[0midx\u001b[0m\u001b[1;33m)\u001b[0m\u001b[1;33m[\u001b[0m\u001b[1;34m\"label\"\u001b[0m\u001b[1;33m]\u001b[0m\u001b[1;33m\u001b[0m\u001b[1;33m\u001b[0m\u001b[0m\n\u001b[0m\u001b[0;32m      4\u001b[0m \u001b[1;32mfor\u001b[0m \u001b[0mi\u001b[0m\u001b[1;33m,\u001b[0m \u001b[0mlabel\u001b[0m \u001b[1;32min\u001b[0m \u001b[0menumerate\u001b[0m\u001b[1;33m(\u001b[0m\u001b[0mlabels\u001b[0m\u001b[1;33m)\u001b[0m\u001b[1;33m:\u001b[0m\u001b[1;33m\u001b[0m\u001b[1;33m\u001b[0m\u001b[0m\n\u001b[0;32m      5\u001b[0m     \u001b[1;32mif\u001b[0m \u001b[0mlabel\u001b[0m\u001b[1;33m>\u001b[0m\u001b[1;36m0\u001b[0m\u001b[1;33m:\u001b[0m\u001b[1;33m\u001b[0m\u001b[1;33m\u001b[0m\u001b[0m\n",
      "\u001b[1;31mTypeError\u001b[0m: 'VOCDataset' object is not callable"
     ]
    }
   ],
   "source": [
    "# TODO: get the image information from index 2020\n",
    "idx = 2020\n",
    "labels = dataset[idx][\"label\"]\n",
    "for i, label in enumerate(labels):\n",
    "    if label>0:\n",
    "        print(VOCDataset.get_class_name(i))\n",
    "\n",
    "# p = dataset[idx][\"rois\"]\n",
    "# print(p.keys())\n",
    "# print(p[\"boxScores\"].flatten().shape)\n",
    "# print(p[\"boxScores\"][0].shape)\n",
    "# score = p[\"boxScores\"][0][0].flatten()\n",
    "# print(score)\n",
    "# (-score).argsort()[:10]\n",
    "# print(p.keys())\n",
    "# print(p[\"boxes\"][0][1][0]/2)\n",
    "# proposals = dataset[idx][\"rois\"]\n",
    "# print(proposals)\n",
    "# print(p[\"boxScores\"].flatten()[1])"
   ]
  },
  {
   "cell_type": "markdown",
   "id": "rational-recycling",
   "metadata": {},
   "source": [
    "## Q0.2 and Q0.3: Wandb Logging\n",
    "First, let's initialize a Weights and Biases project. "
   ]
  },
  {
   "cell_type": "code",
   "execution_count": 5,
   "id": "conventional-flexibility",
   "metadata": {},
   "outputs": [
    {
     "name": "stderr",
     "output_type": "stream",
     "text": [
      "Failed to detect the name of this notebook, you can set it manually with the WANDB_NOTEBOOK_NAME environment variable to enable code saving.\n",
      "wandb: Currently logged in as: joshuarain (use `wandb login --relogin` to force relogin)\n",
      "D:\\anaconda\\envs\\vlr\\lib\\site-packages\\IPython\\html.py:14: ShimWarning: The `IPython.html` package has been deprecated since IPython 4.0. You should import from `notebook` instead. `IPython.html.widgets` has moved to `ipywidgets`.\n",
      "  \"`IPython.html.widgets` has moved to `ipywidgets`.\", ShimWarning)\n"
     ]
    },
    {
     "data": {
      "text/html": [
       "wandb version 0.13.3 is available!  To upgrade, please run:\n",
       " $ pip install wandb --upgrade"
      ],
      "text/plain": [
       "<IPython.core.display.HTML object>"
      ]
     },
     "metadata": {},
     "output_type": "display_data"
    },
    {
     "data": {
      "text/html": [
       "Tracking run with wandb version 0.12.11"
      ],
      "text/plain": [
       "<IPython.core.display.HTML object>"
      ]
     },
     "metadata": {},
     "output_type": "display_data"
    },
    {
     "data": {
      "text/html": [
       "Run data is saved locally in <code>E:\\16824\\a1\\wandb\\run-20221001_220205-2tpw2qay</code>"
      ],
      "text/plain": [
       "<IPython.core.display.HTML object>"
      ]
     },
     "metadata": {},
     "output_type": "display_data"
    },
    {
     "data": {
      "text/html": [
       "Syncing run <strong><a href=\"https://wandb.ai/joshuarain/vlr-hw1/runs/2tpw2qay\" target=\"_blank\">polished-energy-3</a></strong> to <a href=\"https://wandb.ai/joshuarain/vlr-hw1\" target=\"_blank\">Weights & Biases</a> (<a href=\"https://wandb.me/run\" target=\"_blank\">docs</a>)<br/>"
      ],
      "text/plain": [
       "<IPython.core.display.HTML object>"
      ]
     },
     "metadata": {},
     "output_type": "display_data"
    }
   ],
   "source": [
    "USE_WANDB = True\n",
    "if USE_WANDB:\n",
    "    wandb.init(project=\"vlr-hw1\", reinit=True)"
   ]
  },
  {
   "cell_type": "markdown",
   "id": "demanding-ladder",
   "metadata": {},
   "source": [
    "**Q0.2**: Complete this block for overlaying the ground truth box on an image.\n",
    "\n",
    "**Hint**: convert the image tensor to a PIL image and plot it (check `utils.py` for helper functions). You can use [this](https://docs.wandb.ai/library/log) as a reference for logging syntax."
   ]
  },
  {
   "cell_type": "code",
   "execution_count": 6,
   "id": "resistant-concert",
   "metadata": {},
   "outputs": [],
   "source": [
    "class_id_to_label = dict(enumerate(dataset.CLASS_NAMES))\n",
    "\n",
    "# TODO: load the GT information corresponding to index 2020.\n",
    "original_image = tensor_to_PIL(dataset[idx][\"image\"])\n",
    "gt_labels = dataset[idx][\"gt_classes\"]\n",
    "gt_boxes = dataset[idx][\"gt_boxes\"]\n",
    "\n",
    "img = wandb.Image(original_image, boxes={\n",
    "    \"predictions\": {\n",
    "        \"box_data\": get_box_data(gt_labels, gt_boxes),\n",
    "        \"class_labels\": class_id_to_label,\n",
    "    },\n",
    "})\n",
    "\n",
    "# TODO: log the GT bounding box\n",
    "wandb.log({\"GT bounding box\": img})"
   ]
  },
  {
   "cell_type": "markdown",
   "id": "matched-thread",
   "metadata": {},
   "source": [
    "**Q0.3**: Visualize the top 10 bounding proposals corresponding to index 2020.\n",
    "\n",
    "**Hint**: Check the `get_box_data` function in `utils.py` and understand how it is being used. "
   ]
  },
  {
   "cell_type": "code",
   "execution_count": 19,
   "id": "floating-repository",
   "metadata": {},
   "outputs": [
    {
     "ename": "IndexError",
     "evalue": "list index out of range",
     "output_type": "error",
     "traceback": [
      "\u001b[1;31m---------------------------------------------------------------------------\u001b[0m",
      "\u001b[1;31mIndexError\u001b[0m                                Traceback (most recent call last)",
      "\u001b[1;32m~\\AppData\\Local\\Temp\\ipykernel_2900\\3497485491.py\u001b[0m in \u001b[0;36m<module>\u001b[1;34m\u001b[0m\n\u001b[0;32m      3\u001b[0m \u001b[0mproposal_labels\u001b[0m \u001b[1;33m=\u001b[0m \u001b[1;33m[\u001b[0m\u001b[1;33m]\u001b[0m\u001b[1;33m\u001b[0m\u001b[1;33m\u001b[0m\u001b[0m\n\u001b[0;32m      4\u001b[0m \u001b[1;32mfor\u001b[0m \u001b[0mi\u001b[0m\u001b[1;33m,\u001b[0m \u001b[0mproposal\u001b[0m \u001b[1;32min\u001b[0m \u001b[0menumerate\u001b[0m\u001b[1;33m(\u001b[0m\u001b[0mproposals\u001b[0m\u001b[1;33m)\u001b[0m\u001b[1;33m:\u001b[0m\u001b[1;33m\u001b[0m\u001b[1;33m\u001b[0m\u001b[0m\n\u001b[1;32m----> 5\u001b[1;33m     \u001b[0mlabels\u001b[0m \u001b[1;33m=\u001b[0m \u001b[1;33m[\u001b[0m\u001b[0mgt_labels\u001b[0m\u001b[1;33m[\u001b[0m\u001b[0mi\u001b[0m\u001b[1;33m]\u001b[0m \u001b[1;32mfor\u001b[0m \u001b[0m_\u001b[0m \u001b[1;32min\u001b[0m \u001b[0mproposal\u001b[0m\u001b[1;33m]\u001b[0m\u001b[1;33m\u001b[0m\u001b[1;33m\u001b[0m\u001b[0m\n\u001b[0m\u001b[0;32m      6\u001b[0m     \u001b[0mproposal_labels\u001b[0m\u001b[1;33m.\u001b[0m\u001b[0mappend\u001b[0m\u001b[1;33m(\u001b[0m\u001b[0mlabels\u001b[0m\u001b[1;33m)\u001b[0m\u001b[1;33m\u001b[0m\u001b[1;33m\u001b[0m\u001b[0m\n\u001b[0;32m      7\u001b[0m \u001b[1;33m\u001b[0m\u001b[0m\n",
      "\u001b[1;32m~\\AppData\\Local\\Temp\\ipykernel_2900\\3497485491.py\u001b[0m in \u001b[0;36m<listcomp>\u001b[1;34m(.0)\u001b[0m\n\u001b[0;32m      3\u001b[0m \u001b[0mproposal_labels\u001b[0m \u001b[1;33m=\u001b[0m \u001b[1;33m[\u001b[0m\u001b[1;33m]\u001b[0m\u001b[1;33m\u001b[0m\u001b[1;33m\u001b[0m\u001b[0m\n\u001b[0;32m      4\u001b[0m \u001b[1;32mfor\u001b[0m \u001b[0mi\u001b[0m\u001b[1;33m,\u001b[0m \u001b[0mproposal\u001b[0m \u001b[1;32min\u001b[0m \u001b[0menumerate\u001b[0m\u001b[1;33m(\u001b[0m\u001b[0mproposals\u001b[0m\u001b[1;33m)\u001b[0m\u001b[1;33m:\u001b[0m\u001b[1;33m\u001b[0m\u001b[1;33m\u001b[0m\u001b[0m\n\u001b[1;32m----> 5\u001b[1;33m     \u001b[0mlabels\u001b[0m \u001b[1;33m=\u001b[0m \u001b[1;33m[\u001b[0m\u001b[0mgt_labels\u001b[0m\u001b[1;33m[\u001b[0m\u001b[0mi\u001b[0m\u001b[1;33m]\u001b[0m \u001b[1;32mfor\u001b[0m \u001b[0m_\u001b[0m \u001b[1;32min\u001b[0m \u001b[0mproposal\u001b[0m\u001b[1;33m]\u001b[0m\u001b[1;33m\u001b[0m\u001b[1;33m\u001b[0m\u001b[0m\n\u001b[0m\u001b[0;32m      6\u001b[0m     \u001b[0mproposal_labels\u001b[0m\u001b[1;33m.\u001b[0m\u001b[0mappend\u001b[0m\u001b[1;33m(\u001b[0m\u001b[0mlabels\u001b[0m\u001b[1;33m)\u001b[0m\u001b[1;33m\u001b[0m\u001b[1;33m\u001b[0m\u001b[0m\n\u001b[0;32m      7\u001b[0m \u001b[1;33m\u001b[0m\u001b[0m\n",
      "\u001b[1;31mIndexError\u001b[0m: list index out of range"
     ]
    }
   ],
   "source": [
    "# TODO: plot top ten proposals (of bounding boxes)\n",
    "proposals = dataset[idx][\"rois\"]\n",
    "proposal_labels = []\n",
    "for i, proposal in enumerate(proposals):\n",
    "    labels = [gt_labels[i] for _ in proposal]\n",
    "    proposal_labels.append(labels)\n",
    "\n",
    "print(gt_labels)\n",
    "img = wandb.Image(original_image, boxes={\n",
    "    \"predictions\": {\n",
    "        \"box_data\": get_box_data(proposal_labels, proposals),\n",
    "        \"class_labels\": class_id_to_label,\n",
    "    },\n",
    "})\n",
    "\n",
    "# TODO: log the GT bounding box\n",
    "# wandb.log({\"10 proposal bboxes\": img})"
   ]
  },
  {
   "cell_type": "code",
   "execution_count": 9,
   "id": "c0eb7ba4",
   "metadata": {},
   "outputs": [
    {
     "name": "stdout",
     "output_type": "stream",
     "text": [
      "['A', 'A', 'A', 'A', 'A', 'A', 'A', 'A', 'A', 'A']\n"
     ]
    }
   ],
   "source": [
    "labels = [\"A\" for _ in range(10)]\n",
    "print(labels)"
   ]
  },
  {
   "cell_type": "code",
   "execution_count": null,
   "id": "35408451",
   "metadata": {},
   "outputs": [],
   "source": []
  }
 ],
 "metadata": {
  "kernelspec": {
   "display_name": "Python 3 (ipykernel)",
   "language": "python",
   "name": "python3"
  },
  "language_info": {
   "codemirror_mode": {
    "name": "ipython",
    "version": 3
   },
   "file_extension": ".py",
   "mimetype": "text/x-python",
   "name": "python",
   "nbconvert_exporter": "python",
   "pygments_lexer": "ipython3",
   "version": "3.7.13"
  },
  "varInspector": {
   "cols": {
    "lenName": 16,
    "lenType": 16,
    "lenVar": 40
   },
   "kernels_config": {
    "python": {
     "delete_cmd_postfix": "",
     "delete_cmd_prefix": "del ",
     "library": "var_list.py",
     "varRefreshCmd": "print(var_dic_list())"
    },
    "r": {
     "delete_cmd_postfix": ") ",
     "delete_cmd_prefix": "rm(",
     "library": "var_list.r",
     "varRefreshCmd": "cat(var_dic_list()) "
    }
   },
   "types_to_exclude": [
    "module",
    "function",
    "builtin_function_or_method",
    "instance",
    "_Feature"
   ],
   "window_display": false
  },
  "vscode": {
   "interpreter": {
    "hash": "31f2aee4e71d21fbe5cf8b01ff0e069b9275f58929596ceb00d14d90e3e16cd6"
   }
  }
 },
 "nbformat": 4,
 "nbformat_minor": 5
}
